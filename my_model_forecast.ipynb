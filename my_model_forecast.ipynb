{
 "cells": [
  {
   "cell_type": "code",
   "execution_count": null,
   "metadata": {},
   "outputs": [],
   "source": [
    "import os\n",
    "import pandas as pd\n",
    "import torch\n",
    "from neuralprophet import NeuralProphet, set_log_level\n",
    "\n",
    "# Configuração Inicial\n",
    "device = \"cuda\" if torch.cuda.is_available() else \"cpu\"  # Define o dispositivo (GPU ou CPU)\n",
    "\n",
    "# Carregar os Dados\n",
    "data_path = \"new_stats.csv\"  # Caminho para o dataset\n"
   ]
  },
  {
   "cell_type": "code",
   "execution_count": null,
   "metadata": {},
   "outputs": [],
   "source": [
    "df = pd.read_csv(data_path)\n",
    "\n",
    "# Renomear as Colunas\n",
    "df.rename(columns={time_col: \"ds\", target_col: \"y\"}, inplace=True)\n",
    "df[\"ds\"] = pd.to_datetime(df[\"ds\"])\n",
    "\n",
    "last_date = df['ds'].iloc[-1]\n",
    "dates = pd.date_range(start=last_date + pd.Timedelta(minutes=1), periods=predict_size, freq='T')\n",
    "future_dates = pd.DataFrame({'ds': dates})\n",
    "future_dates['open'] = df['open'].iloc[-1]\n",
    "future_dates['tick_volume'] = df['tick_volume'].iloc[-1]\n",
    "future_dates['real_volume'] = df['real_volume'].iloc[-1]\n",
    "future_dates['y'] = None\n",
    "\n",
    "# print(future_dates)\n",
    "\n",
    "df_future = pd.concat([df, future_dates], ignore_index=True)\n"
   ]
  },
  {
   "cell_type": "code",
   "execution_count": null,
   "metadata": {},
   "outputs": [],
   "source": [
    "model = NeuralProphet()\n",
    "\n",
    "model.add_future_regressor('open')\n",
    "model.add_future_regressor('tick_volume')\n",
    "model.add_future_regressor('real_volume')\n",
    "\n",
    "\n",
    "# Define o dispositivo (CPU ou GPU)\n",
    "if torch.cuda.is_available():\n",
    "    model.device =  \"cuda\"\n",
    "else:\n",
    "    model.device = \"cpu\"\n",
    "\n",
    "print(f\"model.device: {model.device}\")\n",
    "\n",
    "set_log_level(\"ERROR\")\n",
    "# set the model to expect these events\n",
    "#m = m.add_events([\"playoff\", \"superbowl\"])\n",
    "# create the data df with events\n",
    "# history_df = model.create_df_with_events(df, )\n",
    "metrics = model.fit(df, freq=\"1min\")\n",
    "\n",
    "\n",
    "forecast = model.predict(df=df_future)\n",
    "\n"
   ]
  },
  {
   "cell_type": "code",
   "execution_count": null,
   "metadata": {},
   "outputs": [],
   "source": [
    "forecast.to_csv(\"IGOR123123.CSV\")\n",
    "\n",
    "# Visualize the forecast\n",
    "model.plot(forecast)"
   ]
  }
 ],
 "metadata": {
  "kernelspec": {
   "display_name": "ProjectForecasting",
   "language": "python",
   "name": "python3"
  },
  "language_info": {
   "codemirror_mode": {
    "name": "ipython",
    "version": 3
   },
   "file_extension": ".py",
   "mimetype": "text/x-python",
   "name": "python",
   "nbconvert_exporter": "python",
   "pygments_lexer": "ipython3",
   "version": "3.11.4"
  }
 },
 "nbformat": 4,
 "nbformat_minor": 2
}
